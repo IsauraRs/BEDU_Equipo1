{
  "nbformat": 4,
  "nbformat_minor": 0,
  "metadata": {
    "colab": {
      "name": "ProyectoEquipo1.ipynb",
      "provenance": [],
      "collapsed_sections": [],
      "mount_file_id": "1fignUvpjQuUS_o0Jl3vOG-nhWqH1JSI4",
      "authorship_tag": "ABX9TyP3NKviHTDxMftWziims7mm",
      "include_colab_link": true
    },
    "kernelspec": {
      "name": "python3",
      "display_name": "Python 3"
    }
  },
  "cells": [
    {
      "cell_type": "markdown",
      "metadata": {
        "id": "view-in-github",
        "colab_type": "text"
      },
      "source": [
        "<a href=\"https://colab.research.google.com/github/IsauraRs/BEDU_Equipo1/blob/master/ProyectoPython/ProyectoEquipo1.ipynb\" target=\"_parent\"><img src=\"https://colab.research.google.com/assets/colab-badge.svg\" alt=\"Open In Colab\"/></a>"
      ]
    },
    {
      "cell_type": "markdown",
      "metadata": {
        "id": "ZhGEMNFbOiNu"
      },
      "source": [
        "# Histórico del bitcoin\n"
      ]
    },
    {
      "cell_type": "markdown",
      "metadata": {
        "id": "lRdMp8-Wsr9n"
      },
      "source": [
        "## Se importan las librerías a utilizar"
      ]
    },
    {
      "cell_type": "code",
      "metadata": {
        "id": "E1uPdYxjRde4"
      },
      "source": [
        "import pandas as pd\n",
        "import numpy as np\n"
      ],
      "execution_count": 81,
      "outputs": []
    },
    {
      "cell_type": "markdown",
      "metadata": {
        "id": "fCn6XoX4Opxw"
      },
      "source": [
        "## Se carga el data set que ha sido extraído de https://www.kaggle.com/mczielinski/bitcoin-historical-data"
      ]
    },
    {
      "cell_type": "code",
      "metadata": {
        "id": "mBviKa0oOXRQ"
      },
      "source": [
        "bitcoin_csv = pd.read_csv(\"/content/drive/MyDrive/bitstampUSD_1-min_data_2012-01-01_to_2020-12-31.csv\", sep = \",\")"
      ],
      "execution_count": 90,
      "outputs": []
    },
    {
      "cell_type": "markdown",
      "metadata": {
        "id": "RKAzeZmdskWP"
      },
      "source": [
        "## Se revisan los tipos de datos"
      ]
    },
    {
      "cell_type": "code",
      "metadata": {
        "colab": {
          "base_uri": "https://localhost:8080/"
        },
        "id": "TuIdyXVkSY3j",
        "outputId": "315e9bfb-ccaa-43b5-ef8d-bbe242ea5782"
      },
      "source": [
        "bitcoin_csv.dtypes"
      ],
      "execution_count": 30,
      "outputs": [
        {
          "output_type": "execute_result",
          "data": {
            "text/plain": [
              "Timestamp              int64\n",
              "Open                 float64\n",
              "High                 float64\n",
              "Low                  float64\n",
              "Close                float64\n",
              "Volume_(BTC)         float64\n",
              "Volume_(Currency)    float64\n",
              "Weighted_Price       float64\n",
              "dtype: object"
            ]
          },
          "metadata": {
            "tags": []
          },
          "execution_count": 30
        }
      ]
    },
    {
      "cell_type": "code",
      "metadata": {
        "colab": {
          "base_uri": "https://localhost:8080/",
          "height": 206
        },
        "id": "wLPICGM2SxII",
        "outputId": "0ad3b554-faab-4296-be2e-d3c271f46555"
      },
      "source": [
        "bitcoin_csv.head()"
      ],
      "execution_count": 31,
      "outputs": [
        {
          "output_type": "execute_result",
          "data": {
            "text/html": [
              "<div>\n",
              "<style scoped>\n",
              "    .dataframe tbody tr th:only-of-type {\n",
              "        vertical-align: middle;\n",
              "    }\n",
              "\n",
              "    .dataframe tbody tr th {\n",
              "        vertical-align: top;\n",
              "    }\n",
              "\n",
              "    .dataframe thead th {\n",
              "        text-align: right;\n",
              "    }\n",
              "</style>\n",
              "<table border=\"1\" class=\"dataframe\">\n",
              "  <thead>\n",
              "    <tr style=\"text-align: right;\">\n",
              "      <th></th>\n",
              "      <th>Timestamp</th>\n",
              "      <th>Open</th>\n",
              "      <th>High</th>\n",
              "      <th>Low</th>\n",
              "      <th>Close</th>\n",
              "      <th>Volume_(BTC)</th>\n",
              "      <th>Volume_(Currency)</th>\n",
              "      <th>Weighted_Price</th>\n",
              "    </tr>\n",
              "  </thead>\n",
              "  <tbody>\n",
              "    <tr>\n",
              "      <th>0</th>\n",
              "      <td>1325317920</td>\n",
              "      <td>4.39</td>\n",
              "      <td>4.39</td>\n",
              "      <td>4.39</td>\n",
              "      <td>4.39</td>\n",
              "      <td>0.455581</td>\n",
              "      <td>2.0</td>\n",
              "      <td>4.39</td>\n",
              "    </tr>\n",
              "    <tr>\n",
              "      <th>1</th>\n",
              "      <td>1325317980</td>\n",
              "      <td>NaN</td>\n",
              "      <td>NaN</td>\n",
              "      <td>NaN</td>\n",
              "      <td>NaN</td>\n",
              "      <td>NaN</td>\n",
              "      <td>NaN</td>\n",
              "      <td>NaN</td>\n",
              "    </tr>\n",
              "    <tr>\n",
              "      <th>2</th>\n",
              "      <td>1325318040</td>\n",
              "      <td>NaN</td>\n",
              "      <td>NaN</td>\n",
              "      <td>NaN</td>\n",
              "      <td>NaN</td>\n",
              "      <td>NaN</td>\n",
              "      <td>NaN</td>\n",
              "      <td>NaN</td>\n",
              "    </tr>\n",
              "    <tr>\n",
              "      <th>3</th>\n",
              "      <td>1325318100</td>\n",
              "      <td>NaN</td>\n",
              "      <td>NaN</td>\n",
              "      <td>NaN</td>\n",
              "      <td>NaN</td>\n",
              "      <td>NaN</td>\n",
              "      <td>NaN</td>\n",
              "      <td>NaN</td>\n",
              "    </tr>\n",
              "    <tr>\n",
              "      <th>4</th>\n",
              "      <td>1325318160</td>\n",
              "      <td>NaN</td>\n",
              "      <td>NaN</td>\n",
              "      <td>NaN</td>\n",
              "      <td>NaN</td>\n",
              "      <td>NaN</td>\n",
              "      <td>NaN</td>\n",
              "      <td>NaN</td>\n",
              "    </tr>\n",
              "  </tbody>\n",
              "</table>\n",
              "</div>"
            ],
            "text/plain": [
              "    Timestamp  Open  High  ...  Volume_(BTC)  Volume_(Currency)  Weighted_Price\n",
              "0  1325317920  4.39  4.39  ...      0.455581                2.0            4.39\n",
              "1  1325317980   NaN   NaN  ...           NaN                NaN             NaN\n",
              "2  1325318040   NaN   NaN  ...           NaN                NaN             NaN\n",
              "3  1325318100   NaN   NaN  ...           NaN                NaN             NaN\n",
              "4  1325318160   NaN   NaN  ...           NaN                NaN             NaN\n",
              "\n",
              "[5 rows x 8 columns]"
            ]
          },
          "metadata": {
            "tags": []
          },
          "execution_count": 31
        }
      ]
    },
    {
      "cell_type": "code",
      "metadata": {
        "colab": {
          "base_uri": "https://localhost:8080/",
          "height": 424
        },
        "id": "4rXKpdWyVhrs",
        "outputId": "0fa5bd14-f866-48c2-83bf-26b0ba327884"
      },
      "source": [
        "bitcoin_csv.isna()"
      ],
      "execution_count": 33,
      "outputs": [
        {
          "output_type": "execute_result",
          "data": {
            "text/html": [
              "<div>\n",
              "<style scoped>\n",
              "    .dataframe tbody tr th:only-of-type {\n",
              "        vertical-align: middle;\n",
              "    }\n",
              "\n",
              "    .dataframe tbody tr th {\n",
              "        vertical-align: top;\n",
              "    }\n",
              "\n",
              "    .dataframe thead th {\n",
              "        text-align: right;\n",
              "    }\n",
              "</style>\n",
              "<table border=\"1\" class=\"dataframe\">\n",
              "  <thead>\n",
              "    <tr style=\"text-align: right;\">\n",
              "      <th></th>\n",
              "      <th>Timestamp</th>\n",
              "      <th>Open</th>\n",
              "      <th>High</th>\n",
              "      <th>Low</th>\n",
              "      <th>Close</th>\n",
              "      <th>Volume_(BTC)</th>\n",
              "      <th>Volume_(Currency)</th>\n",
              "      <th>Weighted_Price</th>\n",
              "    </tr>\n",
              "  </thead>\n",
              "  <tbody>\n",
              "    <tr>\n",
              "      <th>0</th>\n",
              "      <td>False</td>\n",
              "      <td>False</td>\n",
              "      <td>False</td>\n",
              "      <td>False</td>\n",
              "      <td>False</td>\n",
              "      <td>False</td>\n",
              "      <td>False</td>\n",
              "      <td>False</td>\n",
              "    </tr>\n",
              "    <tr>\n",
              "      <th>1</th>\n",
              "      <td>False</td>\n",
              "      <td>True</td>\n",
              "      <td>True</td>\n",
              "      <td>True</td>\n",
              "      <td>True</td>\n",
              "      <td>True</td>\n",
              "      <td>True</td>\n",
              "      <td>True</td>\n",
              "    </tr>\n",
              "    <tr>\n",
              "      <th>2</th>\n",
              "      <td>False</td>\n",
              "      <td>True</td>\n",
              "      <td>True</td>\n",
              "      <td>True</td>\n",
              "      <td>True</td>\n",
              "      <td>True</td>\n",
              "      <td>True</td>\n",
              "      <td>True</td>\n",
              "    </tr>\n",
              "    <tr>\n",
              "      <th>3</th>\n",
              "      <td>False</td>\n",
              "      <td>True</td>\n",
              "      <td>True</td>\n",
              "      <td>True</td>\n",
              "      <td>True</td>\n",
              "      <td>True</td>\n",
              "      <td>True</td>\n",
              "      <td>True</td>\n",
              "    </tr>\n",
              "    <tr>\n",
              "      <th>4</th>\n",
              "      <td>False</td>\n",
              "      <td>True</td>\n",
              "      <td>True</td>\n",
              "      <td>True</td>\n",
              "      <td>True</td>\n",
              "      <td>True</td>\n",
              "      <td>True</td>\n",
              "      <td>True</td>\n",
              "    </tr>\n",
              "    <tr>\n",
              "      <th>...</th>\n",
              "      <td>...</td>\n",
              "      <td>...</td>\n",
              "      <td>...</td>\n",
              "      <td>...</td>\n",
              "      <td>...</td>\n",
              "      <td>...</td>\n",
              "      <td>...</td>\n",
              "      <td>...</td>\n",
              "    </tr>\n",
              "    <tr>\n",
              "      <th>4727772</th>\n",
              "      <td>False</td>\n",
              "      <td>False</td>\n",
              "      <td>False</td>\n",
              "      <td>False</td>\n",
              "      <td>False</td>\n",
              "      <td>False</td>\n",
              "      <td>False</td>\n",
              "      <td>False</td>\n",
              "    </tr>\n",
              "    <tr>\n",
              "      <th>4727773</th>\n",
              "      <td>False</td>\n",
              "      <td>False</td>\n",
              "      <td>False</td>\n",
              "      <td>False</td>\n",
              "      <td>False</td>\n",
              "      <td>False</td>\n",
              "      <td>False</td>\n",
              "      <td>False</td>\n",
              "    </tr>\n",
              "    <tr>\n",
              "      <th>4727774</th>\n",
              "      <td>False</td>\n",
              "      <td>False</td>\n",
              "      <td>False</td>\n",
              "      <td>False</td>\n",
              "      <td>False</td>\n",
              "      <td>False</td>\n",
              "      <td>False</td>\n",
              "      <td>False</td>\n",
              "    </tr>\n",
              "    <tr>\n",
              "      <th>4727775</th>\n",
              "      <td>False</td>\n",
              "      <td>False</td>\n",
              "      <td>False</td>\n",
              "      <td>False</td>\n",
              "      <td>False</td>\n",
              "      <td>False</td>\n",
              "      <td>False</td>\n",
              "      <td>False</td>\n",
              "    </tr>\n",
              "    <tr>\n",
              "      <th>4727776</th>\n",
              "      <td>False</td>\n",
              "      <td>False</td>\n",
              "      <td>False</td>\n",
              "      <td>False</td>\n",
              "      <td>False</td>\n",
              "      <td>False</td>\n",
              "      <td>False</td>\n",
              "      <td>False</td>\n",
              "    </tr>\n",
              "  </tbody>\n",
              "</table>\n",
              "<p>4727777 rows × 8 columns</p>\n",
              "</div>"
            ],
            "text/plain": [
              "         Timestamp   Open  ...  Volume_(Currency)  Weighted_Price\n",
              "0            False  False  ...              False           False\n",
              "1            False   True  ...               True            True\n",
              "2            False   True  ...               True            True\n",
              "3            False   True  ...               True            True\n",
              "4            False   True  ...               True            True\n",
              "...            ...    ...  ...                ...             ...\n",
              "4727772      False  False  ...              False           False\n",
              "4727773      False  False  ...              False           False\n",
              "4727774      False  False  ...              False           False\n",
              "4727775      False  False  ...              False           False\n",
              "4727776      False  False  ...              False           False\n",
              "\n",
              "[4727777 rows x 8 columns]"
            ]
          },
          "metadata": {
            "tags": []
          },
          "execution_count": 33
        }
      ]
    },
    {
      "cell_type": "code",
      "metadata": {
        "colab": {
          "base_uri": "https://localhost:8080/"
        },
        "id": "vp9XhQGmVwQt",
        "outputId": "e39f7a60-d701-42ad-c823-dd6ef2744922"
      },
      "source": [
        "bitcoin_csv.isna().sum(axis = 0)"
      ],
      "execution_count": 34,
      "outputs": [
        {
          "output_type": "execute_result",
          "data": {
            "text/plain": [
              "Timestamp                  0\n",
              "Open                 1243472\n",
              "High                 1243472\n",
              "Low                  1243472\n",
              "Close                1243472\n",
              "Volume_(BTC)         1243472\n",
              "Volume_(Currency)    1243472\n",
              "Weighted_Price       1243472\n",
              "dtype: int64"
            ]
          },
          "metadata": {
            "tags": []
          },
          "execution_count": 34
        }
      ]
    },
    {
      "cell_type": "code",
      "metadata": {
        "colab": {
          "base_uri": "https://localhost:8080/"
        },
        "id": "mr-c2oVyaMyr",
        "outputId": "012f99a7-88a1-4b55-94e3-9d1942636c94"
      },
      "source": [
        "bitcoin_csv.isna().sum(axis = 1)"
      ],
      "execution_count": 35,
      "outputs": [
        {
          "output_type": "execute_result",
          "data": {
            "text/plain": [
              "0          0\n",
              "1          7\n",
              "2          7\n",
              "3          7\n",
              "4          7\n",
              "          ..\n",
              "4727772    0\n",
              "4727773    0\n",
              "4727774    0\n",
              "4727775    0\n",
              "4727776    0\n",
              "Length: 4727777, dtype: int64"
            ]
          },
          "metadata": {
            "tags": []
          },
          "execution_count": 35
        }
      ]
    },
    {
      "cell_type": "code",
      "metadata": {
        "id": "akbHorlZlzj0"
      },
      "source": [
        "bitcoin_csv = bitcoin_csv.apply(pd.to_numeric, errors = 'coerce')\n",
        "bitcoin_csv = bitcoin_csv.dropna()"
      ],
      "execution_count": 38,
      "outputs": []
    },
    {
      "cell_type": "code",
      "metadata": {
        "colab": {
          "base_uri": "https://localhost:8080/",
          "height": 206
        },
        "id": "wGwyYEPpTCt1",
        "outputId": "bc1d5b5f-3a77-44f3-cd95-5336ea2463a1"
      },
      "source": [
        "#Se verifica que se haya limpiado de los NaN\n",
        "bitcoin_csv.head()"
      ],
      "execution_count": 39,
      "outputs": [
        {
          "output_type": "execute_result",
          "data": {
            "text/html": [
              "<div>\n",
              "<style scoped>\n",
              "    .dataframe tbody tr th:only-of-type {\n",
              "        vertical-align: middle;\n",
              "    }\n",
              "\n",
              "    .dataframe tbody tr th {\n",
              "        vertical-align: top;\n",
              "    }\n",
              "\n",
              "    .dataframe thead th {\n",
              "        text-align: right;\n",
              "    }\n",
              "</style>\n",
              "<table border=\"1\" class=\"dataframe\">\n",
              "  <thead>\n",
              "    <tr style=\"text-align: right;\">\n",
              "      <th></th>\n",
              "      <th>Timestamp</th>\n",
              "      <th>Open</th>\n",
              "      <th>High</th>\n",
              "      <th>Low</th>\n",
              "      <th>Close</th>\n",
              "      <th>Volume_(BTC)</th>\n",
              "      <th>Volume_(Currency)</th>\n",
              "      <th>Weighted_Price</th>\n",
              "    </tr>\n",
              "  </thead>\n",
              "  <tbody>\n",
              "    <tr>\n",
              "      <th>0</th>\n",
              "      <td>1325317920</td>\n",
              "      <td>4.39</td>\n",
              "      <td>4.39</td>\n",
              "      <td>4.39</td>\n",
              "      <td>4.39</td>\n",
              "      <td>0.455581</td>\n",
              "      <td>2.000000</td>\n",
              "      <td>4.390000</td>\n",
              "    </tr>\n",
              "    <tr>\n",
              "      <th>478</th>\n",
              "      <td>1325346600</td>\n",
              "      <td>4.39</td>\n",
              "      <td>4.39</td>\n",
              "      <td>4.39</td>\n",
              "      <td>4.39</td>\n",
              "      <td>48.000000</td>\n",
              "      <td>210.720000</td>\n",
              "      <td>4.390000</td>\n",
              "    </tr>\n",
              "    <tr>\n",
              "      <th>547</th>\n",
              "      <td>1325350740</td>\n",
              "      <td>4.50</td>\n",
              "      <td>4.57</td>\n",
              "      <td>4.50</td>\n",
              "      <td>4.57</td>\n",
              "      <td>37.862297</td>\n",
              "      <td>171.380338</td>\n",
              "      <td>4.526411</td>\n",
              "    </tr>\n",
              "    <tr>\n",
              "      <th>548</th>\n",
              "      <td>1325350800</td>\n",
              "      <td>4.58</td>\n",
              "      <td>4.58</td>\n",
              "      <td>4.58</td>\n",
              "      <td>4.58</td>\n",
              "      <td>9.000000</td>\n",
              "      <td>41.220000</td>\n",
              "      <td>4.580000</td>\n",
              "    </tr>\n",
              "    <tr>\n",
              "      <th>1224</th>\n",
              "      <td>1325391360</td>\n",
              "      <td>4.58</td>\n",
              "      <td>4.58</td>\n",
              "      <td>4.58</td>\n",
              "      <td>4.58</td>\n",
              "      <td>1.502000</td>\n",
              "      <td>6.879160</td>\n",
              "      <td>4.580000</td>\n",
              "    </tr>\n",
              "  </tbody>\n",
              "</table>\n",
              "</div>"
            ],
            "text/plain": [
              "       Timestamp  Open  High  ...  Volume_(BTC)  Volume_(Currency)  Weighted_Price\n",
              "0     1325317920  4.39  4.39  ...      0.455581           2.000000        4.390000\n",
              "478   1325346600  4.39  4.39  ...     48.000000         210.720000        4.390000\n",
              "547   1325350740  4.50  4.57  ...     37.862297         171.380338        4.526411\n",
              "548   1325350800  4.58  4.58  ...      9.000000          41.220000        4.580000\n",
              "1224  1325391360  4.58  4.58  ...      1.502000           6.879160        4.580000\n",
              "\n",
              "[5 rows x 8 columns]"
            ]
          },
          "metadata": {
            "tags": []
          },
          "execution_count": 39
        }
      ]
    },
    {
      "cell_type": "markdown",
      "metadata": {
        "id": "Ho6S1wIvmiim"
      },
      "source": [
        "## Se resetea el índice"
      ]
    },
    {
      "cell_type": "code",
      "metadata": {
        "id": "y467DZh1UK7l"
      },
      "source": [
        "\n",
        "bitcoin_csv = bitcoin_csv.reset_index(drop = True)"
      ],
      "execution_count": 71,
      "outputs": []
    },
    {
      "cell_type": "code",
      "metadata": {
        "colab": {
          "base_uri": "https://localhost:8080/",
          "height": 293
        },
        "id": "JUo8uZ83FO36",
        "outputId": "65907ff5-574d-4e20-a451-873bd16c9cfc"
      },
      "source": [
        "bitcoin_csv.head()"
      ],
      "execution_count": 119,
      "outputs": [
        {
          "output_type": "execute_result",
          "data": {
            "text/html": [
              "<div>\n",
              "<style scoped>\n",
              "    .dataframe tbody tr th:only-of-type {\n",
              "        vertical-align: middle;\n",
              "    }\n",
              "\n",
              "    .dataframe tbody tr th {\n",
              "        vertical-align: top;\n",
              "    }\n",
              "\n",
              "    .dataframe thead th {\n",
              "        text-align: right;\n",
              "    }\n",
              "</style>\n",
              "<table border=\"1\" class=\"dataframe\">\n",
              "  <thead>\n",
              "    <tr style=\"text-align: right;\">\n",
              "      <th></th>\n",
              "      <th>Timestamp</th>\n",
              "      <th>Open</th>\n",
              "      <th>High</th>\n",
              "      <th>Low</th>\n",
              "      <th>Close</th>\n",
              "      <th>Volume_(BTC)</th>\n",
              "      <th>Volume_(Currency)</th>\n",
              "      <th>Weighted_Price</th>\n",
              "    </tr>\n",
              "  </thead>\n",
              "  <tbody>\n",
              "    <tr>\n",
              "      <th>0</th>\n",
              "      <td>1970-01-01 00:00:01.325317920</td>\n",
              "      <td>4.39</td>\n",
              "      <td>4.39</td>\n",
              "      <td>4.39</td>\n",
              "      <td>4.39</td>\n",
              "      <td>0.455581</td>\n",
              "      <td>2.0</td>\n",
              "      <td>4.39</td>\n",
              "    </tr>\n",
              "    <tr>\n",
              "      <th>1</th>\n",
              "      <td>1970-01-01 00:00:01.325317980</td>\n",
              "      <td>NaN</td>\n",
              "      <td>NaN</td>\n",
              "      <td>NaN</td>\n",
              "      <td>NaN</td>\n",
              "      <td>NaN</td>\n",
              "      <td>NaN</td>\n",
              "      <td>NaN</td>\n",
              "    </tr>\n",
              "    <tr>\n",
              "      <th>2</th>\n",
              "      <td>1970-01-01 00:00:01.325318040</td>\n",
              "      <td>NaN</td>\n",
              "      <td>NaN</td>\n",
              "      <td>NaN</td>\n",
              "      <td>NaN</td>\n",
              "      <td>NaN</td>\n",
              "      <td>NaN</td>\n",
              "      <td>NaN</td>\n",
              "    </tr>\n",
              "    <tr>\n",
              "      <th>3</th>\n",
              "      <td>1970-01-01 00:00:01.325318100</td>\n",
              "      <td>NaN</td>\n",
              "      <td>NaN</td>\n",
              "      <td>NaN</td>\n",
              "      <td>NaN</td>\n",
              "      <td>NaN</td>\n",
              "      <td>NaN</td>\n",
              "      <td>NaN</td>\n",
              "    </tr>\n",
              "    <tr>\n",
              "      <th>4</th>\n",
              "      <td>1970-01-01 00:00:01.325318160</td>\n",
              "      <td>NaN</td>\n",
              "      <td>NaN</td>\n",
              "      <td>NaN</td>\n",
              "      <td>NaN</td>\n",
              "      <td>NaN</td>\n",
              "      <td>NaN</td>\n",
              "      <td>NaN</td>\n",
              "    </tr>\n",
              "  </tbody>\n",
              "</table>\n",
              "</div>"
            ],
            "text/plain": [
              "                      Timestamp  Open  ...  Volume_(Currency)  Weighted_Price\n",
              "0 1970-01-01 00:00:01.325317920  4.39  ...                2.0            4.39\n",
              "1 1970-01-01 00:00:01.325317980   NaN  ...                NaN             NaN\n",
              "2 1970-01-01 00:00:01.325318040   NaN  ...                NaN             NaN\n",
              "3 1970-01-01 00:00:01.325318100   NaN  ...                NaN             NaN\n",
              "4 1970-01-01 00:00:01.325318160   NaN  ...                NaN             NaN\n",
              "\n",
              "[5 rows x 8 columns]"
            ]
          },
          "metadata": {
            "tags": []
          },
          "execution_count": 119
        }
      ]
    },
    {
      "cell_type": "code",
      "metadata": {
        "colab": {
          "base_uri": "https://localhost:8080/",
          "height": 313
        },
        "id": "hRiLqK2MUfj6",
        "outputId": "64b48698-7e15-424f-a59b-9164cd40dfde"
      },
      "source": [
        "bitcoin_csv.tail()"
      ],
      "execution_count": 93,
      "outputs": [
        {
          "output_type": "execute_result",
          "data": {
            "text/html": [
              "<div>\n",
              "<style scoped>\n",
              "    .dataframe tbody tr th:only-of-type {\n",
              "        vertical-align: middle;\n",
              "    }\n",
              "\n",
              "    .dataframe tbody tr th {\n",
              "        vertical-align: top;\n",
              "    }\n",
              "\n",
              "    .dataframe thead th {\n",
              "        text-align: right;\n",
              "    }\n",
              "</style>\n",
              "<table border=\"1\" class=\"dataframe\">\n",
              "  <thead>\n",
              "    <tr style=\"text-align: right;\">\n",
              "      <th></th>\n",
              "      <th>Timestamp</th>\n",
              "      <th>Open</th>\n",
              "      <th>High</th>\n",
              "      <th>Low</th>\n",
              "      <th>Close</th>\n",
              "      <th>Volume_(BTC)</th>\n",
              "      <th>Volume_(Currency)</th>\n",
              "      <th>Weighted_Price</th>\n",
              "    </tr>\n",
              "  </thead>\n",
              "  <tbody>\n",
              "    <tr>\n",
              "      <th>4727772</th>\n",
              "      <td>1970-01-01 00:00:01.609372560</td>\n",
              "      <td>28801.47</td>\n",
              "      <td>28829.42</td>\n",
              "      <td>28785.64</td>\n",
              "      <td>28829.42</td>\n",
              "      <td>0.965221</td>\n",
              "      <td>27804.572129</td>\n",
              "      <td>28806.429798</td>\n",
              "    </tr>\n",
              "    <tr>\n",
              "      <th>4727773</th>\n",
              "      <td>1970-01-01 00:00:01.609372620</td>\n",
              "      <td>28829.42</td>\n",
              "      <td>28863.90</td>\n",
              "      <td>28829.42</td>\n",
              "      <td>28857.06</td>\n",
              "      <td>2.368831</td>\n",
              "      <td>68332.350629</td>\n",
              "      <td>28846.441863</td>\n",
              "    </tr>\n",
              "    <tr>\n",
              "      <th>4727774</th>\n",
              "      <td>1970-01-01 00:00:01.609372680</td>\n",
              "      <td>28850.49</td>\n",
              "      <td>28900.52</td>\n",
              "      <td>28850.49</td>\n",
              "      <td>28882.82</td>\n",
              "      <td>2.466590</td>\n",
              "      <td>71232.784464</td>\n",
              "      <td>28879.056266</td>\n",
              "    </tr>\n",
              "    <tr>\n",
              "      <th>4727775</th>\n",
              "      <td>1970-01-01 00:00:01.609372740</td>\n",
              "      <td>28910.54</td>\n",
              "      <td>28911.52</td>\n",
              "      <td>28867.60</td>\n",
              "      <td>28881.30</td>\n",
              "      <td>7.332773</td>\n",
              "      <td>211870.912660</td>\n",
              "      <td>28893.695831</td>\n",
              "    </tr>\n",
              "    <tr>\n",
              "      <th>4727776</th>\n",
              "      <td>1970-01-01 00:00:01.609372800</td>\n",
              "      <td>28893.21</td>\n",
              "      <td>28928.49</td>\n",
              "      <td>28893.21</td>\n",
              "      <td>28928.49</td>\n",
              "      <td>5.757679</td>\n",
              "      <td>166449.709320</td>\n",
              "      <td>28909.166061</td>\n",
              "    </tr>\n",
              "  </tbody>\n",
              "</table>\n",
              "</div>"
            ],
            "text/plain": [
              "                            Timestamp  ...  Weighted_Price\n",
              "4727772 1970-01-01 00:00:01.609372560  ...    28806.429798\n",
              "4727773 1970-01-01 00:00:01.609372620  ...    28846.441863\n",
              "4727774 1970-01-01 00:00:01.609372680  ...    28879.056266\n",
              "4727775 1970-01-01 00:00:01.609372740  ...    28893.695831\n",
              "4727776 1970-01-01 00:00:01.609372800  ...    28909.166061\n",
              "\n",
              "[5 rows x 8 columns]"
            ]
          },
          "metadata": {
            "tags": []
          },
          "execution_count": 93
        }
      ]
    },
    {
      "cell_type": "markdown",
      "metadata": {
        "id": "bdCUHhZFWiz0"
      },
      "source": [
        "## Se cambia el formato de la fecha del formato UNIX\n",
        "\n"
      ]
    },
    {
      "cell_type": "code",
      "metadata": {
        "colab": {
          "base_uri": "https://localhost:8080/"
        },
        "id": "FUCjUrmAB4zV",
        "outputId": "a5b28c5c-bc64-4e5a-dde1-9c5c215764d2"
      },
      "source": [
        "pd.to_datetime(bitcoin_csv['Timestamp'], unit = 'ms')"
      ],
      "execution_count": 116,
      "outputs": [
        {
          "output_type": "execute_result",
          "data": {
            "text/plain": [
              "0         1970-01-01 00:00:01.325317920\n",
              "1         1970-01-01 00:00:01.325317980\n",
              "2         1970-01-01 00:00:01.325318040\n",
              "3         1970-01-01 00:00:01.325318100\n",
              "4         1970-01-01 00:00:01.325318160\n",
              "                       ...             \n",
              "4727772   1970-01-01 00:00:01.609372560\n",
              "4727773   1970-01-01 00:00:01.609372620\n",
              "4727774   1970-01-01 00:00:01.609372680\n",
              "4727775   1970-01-01 00:00:01.609372740\n",
              "4727776   1970-01-01 00:00:01.609372800\n",
              "Name: Timestamp, Length: 4727777, dtype: datetime64[ns]"
            ]
          },
          "metadata": {
            "tags": []
          },
          "execution_count": 116
        }
      ]
    },
    {
      "cell_type": "code",
      "metadata": {
        "id": "744IW0pxbGBx",
        "colab": {
          "base_uri": "https://localhost:8080/"
        },
        "outputId": "d8136fa0-1581-4796-dd33-b01caff7bbdb"
      },
      "source": [
        "bitcoin_csv.dtypes"
      ],
      "execution_count": 110,
      "outputs": [
        {
          "output_type": "execute_result",
          "data": {
            "text/plain": [
              "Timestamp            datetime64[ns]\n",
              "Open                        float64\n",
              "High                        float64\n",
              "Low                         float64\n",
              "Close                       float64\n",
              "Volume_(BTC)                float64\n",
              "Volume_(Currency)           float64\n",
              "Weighted_Price              float64\n",
              "dtype: object"
            ]
          },
          "metadata": {
            "tags": []
          },
          "execution_count": 110
        }
      ]
    },
    {
      "cell_type": "markdown",
      "metadata": {
        "id": "pSqeppGdEEld"
      },
      "source": [
        "## El tipo de dato en la fecha ha cambiado, sin embargo, las fechas no corresponden a las fechas reales, ya que de acuerdo a la documentación, estas deberían comenzar en enero de 2012 y la última debería ser de diciembre de 2020"
      ]
    },
    {
      "cell_type": "code",
      "metadata": {
        "colab": {
          "base_uri": "https://localhost:8080/",
          "height": 289
        },
        "id": "nK94Lo-aDIp9",
        "outputId": "33328d95-7fc5-4d89-f11c-5eeb32f7ee30"
      },
      "source": [
        "datetime.datetime.fromtimestamp(bitcoin_csv['Timestamp'])"
      ],
      "execution_count": 118,
      "outputs": [
        {
          "output_type": "error",
          "ename": "TypeError",
          "evalue": "ignored",
          "traceback": [
            "\u001b[0;31m---------------------------------------------------------------------------\u001b[0m",
            "\u001b[0;31mTypeError\u001b[0m                                 Traceback (most recent call last)",
            "\u001b[0;32m<ipython-input-118-b6e669a96aa6>\u001b[0m in \u001b[0;36m<module>\u001b[0;34m()\u001b[0m\n\u001b[0;32m----> 1\u001b[0;31m \u001b[0mdatetime\u001b[0m\u001b[0;34m.\u001b[0m\u001b[0mdatetime\u001b[0m\u001b[0;34m.\u001b[0m\u001b[0mfromtimestamp\u001b[0m\u001b[0;34m(\u001b[0m\u001b[0mbitcoin_csv\u001b[0m\u001b[0;34m[\u001b[0m\u001b[0;34m'Timestamp'\u001b[0m\u001b[0;34m]\u001b[0m\u001b[0;34m)\u001b[0m\u001b[0;34m\u001b[0m\u001b[0;34m\u001b[0m\u001b[0m\n\u001b[0m",
            "\u001b[0;32m/usr/local/lib/python3.7/dist-packages/pandas/core/series.py\u001b[0m in \u001b[0;36mwrapper\u001b[0;34m(self)\u001b[0m\n\u001b[1;32m    127\u001b[0m         \u001b[0;32mif\u001b[0m \u001b[0mlen\u001b[0m\u001b[0;34m(\u001b[0m\u001b[0mself\u001b[0m\u001b[0;34m)\u001b[0m \u001b[0;34m==\u001b[0m \u001b[0;36m1\u001b[0m\u001b[0;34m:\u001b[0m\u001b[0;34m\u001b[0m\u001b[0;34m\u001b[0m\u001b[0m\n\u001b[1;32m    128\u001b[0m             \u001b[0;32mreturn\u001b[0m \u001b[0mconverter\u001b[0m\u001b[0;34m(\u001b[0m\u001b[0mself\u001b[0m\u001b[0;34m.\u001b[0m\u001b[0miloc\u001b[0m\u001b[0;34m[\u001b[0m\u001b[0;36m0\u001b[0m\u001b[0;34m]\u001b[0m\u001b[0;34m)\u001b[0m\u001b[0;34m\u001b[0m\u001b[0;34m\u001b[0m\u001b[0m\n\u001b[0;32m--> 129\u001b[0;31m         \u001b[0;32mraise\u001b[0m \u001b[0mTypeError\u001b[0m\u001b[0;34m(\u001b[0m\u001b[0;34mf\"cannot convert the series to {converter}\"\u001b[0m\u001b[0;34m)\u001b[0m\u001b[0;34m\u001b[0m\u001b[0;34m\u001b[0m\u001b[0m\n\u001b[0m\u001b[1;32m    130\u001b[0m \u001b[0;34m\u001b[0m\u001b[0m\n\u001b[1;32m    131\u001b[0m     \u001b[0mwrapper\u001b[0m\u001b[0;34m.\u001b[0m\u001b[0m__name__\u001b[0m \u001b[0;34m=\u001b[0m \u001b[0;34mf\"__{converter.__name__}__\"\u001b[0m\u001b[0;34m\u001b[0m\u001b[0;34m\u001b[0m\u001b[0m\n",
            "\u001b[0;31mTypeError\u001b[0m: cannot convert the series to <class 'int'>"
          ]
        }
      ]
    },
    {
      "cell_type": "code",
      "metadata": {
        "id": "deBLMaABDIhn"
      },
      "source": [
        ""
      ],
      "execution_count": null,
      "outputs": []
    },
    {
      "cell_type": "code",
      "metadata": {
        "id": "dua6v4uuDIaY"
      },
      "source": [
        ""
      ],
      "execution_count": null,
      "outputs": []
    },
    {
      "cell_type": "code",
      "metadata": {
        "id": "sI1aRbi5DIGq"
      },
      "source": [
        ""
      ],
      "execution_count": null,
      "outputs": []
    },
    {
      "cell_type": "code",
      "metadata": {
        "id": "OlaYiTICDFtx"
      },
      "source": [
        "import datetime"
      ],
      "execution_count": 117,
      "outputs": []
    },
    {
      "cell_type": "code",
      "metadata": {
        "colab": {
          "base_uri": "https://localhost:8080/",
          "height": 617
        },
        "id": "LIU0qal8nRo1",
        "outputId": "d011d8ae-e05b-4432-a70a-6ff76f725863"
      },
      "source": [
        "bitcoin_csv"
      ],
      "execution_count": 111,
      "outputs": [
        {
          "output_type": "execute_result",
          "data": {
            "text/html": [
              "<div>\n",
              "<style scoped>\n",
              "    .dataframe tbody tr th:only-of-type {\n",
              "        vertical-align: middle;\n",
              "    }\n",
              "\n",
              "    .dataframe tbody tr th {\n",
              "        vertical-align: top;\n",
              "    }\n",
              "\n",
              "    .dataframe thead th {\n",
              "        text-align: right;\n",
              "    }\n",
              "</style>\n",
              "<table border=\"1\" class=\"dataframe\">\n",
              "  <thead>\n",
              "    <tr style=\"text-align: right;\">\n",
              "      <th></th>\n",
              "      <th>Timestamp</th>\n",
              "      <th>Open</th>\n",
              "      <th>High</th>\n",
              "      <th>Low</th>\n",
              "      <th>Close</th>\n",
              "      <th>Volume_(BTC)</th>\n",
              "      <th>Volume_(Currency)</th>\n",
              "      <th>Weighted_Price</th>\n",
              "    </tr>\n",
              "  </thead>\n",
              "  <tbody>\n",
              "    <tr>\n",
              "      <th>0</th>\n",
              "      <td>1970-01-01 00:00:01.325317920</td>\n",
              "      <td>4.39</td>\n",
              "      <td>4.39</td>\n",
              "      <td>4.39</td>\n",
              "      <td>4.39</td>\n",
              "      <td>0.455581</td>\n",
              "      <td>2.000000</td>\n",
              "      <td>4.390000</td>\n",
              "    </tr>\n",
              "    <tr>\n",
              "      <th>1</th>\n",
              "      <td>1970-01-01 00:00:01.325317980</td>\n",
              "      <td>NaN</td>\n",
              "      <td>NaN</td>\n",
              "      <td>NaN</td>\n",
              "      <td>NaN</td>\n",
              "      <td>NaN</td>\n",
              "      <td>NaN</td>\n",
              "      <td>NaN</td>\n",
              "    </tr>\n",
              "    <tr>\n",
              "      <th>2</th>\n",
              "      <td>1970-01-01 00:00:01.325318040</td>\n",
              "      <td>NaN</td>\n",
              "      <td>NaN</td>\n",
              "      <td>NaN</td>\n",
              "      <td>NaN</td>\n",
              "      <td>NaN</td>\n",
              "      <td>NaN</td>\n",
              "      <td>NaN</td>\n",
              "    </tr>\n",
              "    <tr>\n",
              "      <th>3</th>\n",
              "      <td>1970-01-01 00:00:01.325318100</td>\n",
              "      <td>NaN</td>\n",
              "      <td>NaN</td>\n",
              "      <td>NaN</td>\n",
              "      <td>NaN</td>\n",
              "      <td>NaN</td>\n",
              "      <td>NaN</td>\n",
              "      <td>NaN</td>\n",
              "    </tr>\n",
              "    <tr>\n",
              "      <th>4</th>\n",
              "      <td>1970-01-01 00:00:01.325318160</td>\n",
              "      <td>NaN</td>\n",
              "      <td>NaN</td>\n",
              "      <td>NaN</td>\n",
              "      <td>NaN</td>\n",
              "      <td>NaN</td>\n",
              "      <td>NaN</td>\n",
              "      <td>NaN</td>\n",
              "    </tr>\n",
              "    <tr>\n",
              "      <th>...</th>\n",
              "      <td>...</td>\n",
              "      <td>...</td>\n",
              "      <td>...</td>\n",
              "      <td>...</td>\n",
              "      <td>...</td>\n",
              "      <td>...</td>\n",
              "      <td>...</td>\n",
              "      <td>...</td>\n",
              "    </tr>\n",
              "    <tr>\n",
              "      <th>4727772</th>\n",
              "      <td>1970-01-01 00:00:01.609372560</td>\n",
              "      <td>28801.47</td>\n",
              "      <td>28829.42</td>\n",
              "      <td>28785.64</td>\n",
              "      <td>28829.42</td>\n",
              "      <td>0.965221</td>\n",
              "      <td>27804.572129</td>\n",
              "      <td>28806.429798</td>\n",
              "    </tr>\n",
              "    <tr>\n",
              "      <th>4727773</th>\n",
              "      <td>1970-01-01 00:00:01.609372620</td>\n",
              "      <td>28829.42</td>\n",
              "      <td>28863.90</td>\n",
              "      <td>28829.42</td>\n",
              "      <td>28857.06</td>\n",
              "      <td>2.368831</td>\n",
              "      <td>68332.350629</td>\n",
              "      <td>28846.441863</td>\n",
              "    </tr>\n",
              "    <tr>\n",
              "      <th>4727774</th>\n",
              "      <td>1970-01-01 00:00:01.609372680</td>\n",
              "      <td>28850.49</td>\n",
              "      <td>28900.52</td>\n",
              "      <td>28850.49</td>\n",
              "      <td>28882.82</td>\n",
              "      <td>2.466590</td>\n",
              "      <td>71232.784464</td>\n",
              "      <td>28879.056266</td>\n",
              "    </tr>\n",
              "    <tr>\n",
              "      <th>4727775</th>\n",
              "      <td>1970-01-01 00:00:01.609372740</td>\n",
              "      <td>28910.54</td>\n",
              "      <td>28911.52</td>\n",
              "      <td>28867.60</td>\n",
              "      <td>28881.30</td>\n",
              "      <td>7.332773</td>\n",
              "      <td>211870.912660</td>\n",
              "      <td>28893.695831</td>\n",
              "    </tr>\n",
              "    <tr>\n",
              "      <th>4727776</th>\n",
              "      <td>1970-01-01 00:00:01.609372800</td>\n",
              "      <td>28893.21</td>\n",
              "      <td>28928.49</td>\n",
              "      <td>28893.21</td>\n",
              "      <td>28928.49</td>\n",
              "      <td>5.757679</td>\n",
              "      <td>166449.709320</td>\n",
              "      <td>28909.166061</td>\n",
              "    </tr>\n",
              "  </tbody>\n",
              "</table>\n",
              "<p>4727777 rows × 8 columns</p>\n",
              "</div>"
            ],
            "text/plain": [
              "                            Timestamp  ...  Weighted_Price\n",
              "0       1970-01-01 00:00:01.325317920  ...        4.390000\n",
              "1       1970-01-01 00:00:01.325317980  ...             NaN\n",
              "2       1970-01-01 00:00:01.325318040  ...             NaN\n",
              "3       1970-01-01 00:00:01.325318100  ...             NaN\n",
              "4       1970-01-01 00:00:01.325318160  ...             NaN\n",
              "...                               ...  ...             ...\n",
              "4727772 1970-01-01 00:00:01.609372560  ...    28806.429798\n",
              "4727773 1970-01-01 00:00:01.609372620  ...    28846.441863\n",
              "4727774 1970-01-01 00:00:01.609372680  ...    28879.056266\n",
              "4727775 1970-01-01 00:00:01.609372740  ...    28893.695831\n",
              "4727776 1970-01-01 00:00:01.609372800  ...    28909.166061\n",
              "\n",
              "[4727777 rows x 8 columns]"
            ]
          },
          "metadata": {
            "tags": []
          },
          "execution_count": 111
        }
      ]
    },
    {
      "cell_type": "markdown",
      "metadata": {
        "id": "2PmDdKPusO7P"
      },
      "source": [
        "## Se cambian los nombres de las columnas para que correspondan al formato de python y tengan un nombre más comprensible"
      ]
    },
    {
      "cell_type": "code",
      "metadata": {
        "id": "yrb4Ku95nmxI"
      },
      "source": [
        "bitcoin_csv.columns = [\"start_time_of_the_window\" , \"open_price\" , \"high_price\" , \"low_price\" , \"close_price\" , \"volume_of_bitcoins_transacted\" , \"volume_of_corresponding_currency_transacted\" , \"volume_weighted_average_price\"]"
      ],
      "execution_count": 50,
      "outputs": []
    },
    {
      "cell_type": "markdown",
      "metadata": {
        "id": "MO7xQlaKzUJu"
      },
      "source": [
        "## Se añade una columna que incluye solo la fecha"
      ]
    },
    {
      "cell_type": "code",
      "metadata": {
        "id": "AEEpduhhr7Ij"
      },
      "source": [
        "bitcoin_csv[\"start_date\"] = [d.date() for d in bitcoin_csv['start_time_of_the_window']]"
      ],
      "execution_count": 75,
      "outputs": []
    },
    {
      "cell_type": "markdown",
      "metadata": {
        "id": "iuWOrsdAzcEB"
      },
      "source": [
        "## Se añade una columna solo con el tiempo"
      ]
    },
    {
      "cell_type": "code",
      "metadata": {
        "id": "uR_D8w2Czi9H"
      },
      "source": [
        "bitcoin_csv[\"start_time\"] = [d.time() for d in bitcoin_csv['start_time_of_the_window']] "
      ],
      "execution_count": 84,
      "outputs": []
    },
    {
      "cell_type": "code",
      "metadata": {
        "colab": {
          "base_uri": "https://localhost:8080/",
          "height": 444
        },
        "id": "WhiQQxFQyK5A",
        "outputId": "41c69aac-5b90-4b0f-a4f7-06e852eed492"
      },
      "source": [
        "bitcoin_csv"
      ],
      "execution_count": 85,
      "outputs": [
        {
          "output_type": "execute_result",
          "data": {
            "text/html": [
              "<div>\n",
              "<style scoped>\n",
              "    .dataframe tbody tr th:only-of-type {\n",
              "        vertical-align: middle;\n",
              "    }\n",
              "\n",
              "    .dataframe tbody tr th {\n",
              "        vertical-align: top;\n",
              "    }\n",
              "\n",
              "    .dataframe thead th {\n",
              "        text-align: right;\n",
              "    }\n",
              "</style>\n",
              "<table border=\"1\" class=\"dataframe\">\n",
              "  <thead>\n",
              "    <tr style=\"text-align: right;\">\n",
              "      <th></th>\n",
              "      <th>start_time_of_the_window</th>\n",
              "      <th>open_price</th>\n",
              "      <th>high_price</th>\n",
              "      <th>low_price</th>\n",
              "      <th>close_price</th>\n",
              "      <th>volume_of_bitcoins_transacted</th>\n",
              "      <th>volume_of_corresponding_currency_transacted</th>\n",
              "      <th>volume_weighted_average_price</th>\n",
              "      <th>start_date</th>\n",
              "      <th>start_time</th>\n",
              "    </tr>\n",
              "  </thead>\n",
              "  <tbody>\n",
              "    <tr>\n",
              "      <th>0</th>\n",
              "      <td>1970-01-16 08:08:37.920</td>\n",
              "      <td>4.39</td>\n",
              "      <td>4.39</td>\n",
              "      <td>4.39</td>\n",
              "      <td>4.39</td>\n",
              "      <td>0.455581</td>\n",
              "      <td>2.000000</td>\n",
              "      <td>4.390000</td>\n",
              "      <td>1970-01-16</td>\n",
              "      <td>08:08:37.920000</td>\n",
              "    </tr>\n",
              "    <tr>\n",
              "      <th>1</th>\n",
              "      <td>1970-01-16 08:09:06.600</td>\n",
              "      <td>4.39</td>\n",
              "      <td>4.39</td>\n",
              "      <td>4.39</td>\n",
              "      <td>4.39</td>\n",
              "      <td>48.000000</td>\n",
              "      <td>210.720000</td>\n",
              "      <td>4.390000</td>\n",
              "      <td>1970-01-16</td>\n",
              "      <td>08:09:06.600000</td>\n",
              "    </tr>\n",
              "    <tr>\n",
              "      <th>2</th>\n",
              "      <td>1970-01-16 08:09:10.740</td>\n",
              "      <td>4.50</td>\n",
              "      <td>4.57</td>\n",
              "      <td>4.50</td>\n",
              "      <td>4.57</td>\n",
              "      <td>37.862297</td>\n",
              "      <td>171.380338</td>\n",
              "      <td>4.526411</td>\n",
              "      <td>1970-01-16</td>\n",
              "      <td>08:09:10.740000</td>\n",
              "    </tr>\n",
              "    <tr>\n",
              "      <th>3</th>\n",
              "      <td>1970-01-16 08:09:10.800</td>\n",
              "      <td>4.58</td>\n",
              "      <td>4.58</td>\n",
              "      <td>4.58</td>\n",
              "      <td>4.58</td>\n",
              "      <td>9.000000</td>\n",
              "      <td>41.220000</td>\n",
              "      <td>4.580000</td>\n",
              "      <td>1970-01-16</td>\n",
              "      <td>08:09:10.800000</td>\n",
              "    </tr>\n",
              "    <tr>\n",
              "      <th>4</th>\n",
              "      <td>1970-01-16 08:09:51.360</td>\n",
              "      <td>4.58</td>\n",
              "      <td>4.58</td>\n",
              "      <td>4.58</td>\n",
              "      <td>4.58</td>\n",
              "      <td>1.502000</td>\n",
              "      <td>6.879160</td>\n",
              "      <td>4.580000</td>\n",
              "      <td>1970-01-16</td>\n",
              "      <td>08:09:51.360000</td>\n",
              "    </tr>\n",
              "    <tr>\n",
              "      <th>...</th>\n",
              "      <td>...</td>\n",
              "      <td>...</td>\n",
              "      <td>...</td>\n",
              "      <td>...</td>\n",
              "      <td>...</td>\n",
              "      <td>...</td>\n",
              "      <td>...</td>\n",
              "      <td>...</td>\n",
              "      <td>...</td>\n",
              "      <td>...</td>\n",
              "    </tr>\n",
              "    <tr>\n",
              "      <th>3484300</th>\n",
              "      <td>1970-01-19 15:02:52.560</td>\n",
              "      <td>28801.47</td>\n",
              "      <td>28829.42</td>\n",
              "      <td>28785.64</td>\n",
              "      <td>28829.42</td>\n",
              "      <td>0.965221</td>\n",
              "      <td>27804.572129</td>\n",
              "      <td>28806.429798</td>\n",
              "      <td>1970-01-19</td>\n",
              "      <td>15:02:52.560000</td>\n",
              "    </tr>\n",
              "    <tr>\n",
              "      <th>3484301</th>\n",
              "      <td>1970-01-19 15:02:52.620</td>\n",
              "      <td>28829.42</td>\n",
              "      <td>28863.90</td>\n",
              "      <td>28829.42</td>\n",
              "      <td>28857.06</td>\n",
              "      <td>2.368831</td>\n",
              "      <td>68332.350629</td>\n",
              "      <td>28846.441863</td>\n",
              "      <td>1970-01-19</td>\n",
              "      <td>15:02:52.620000</td>\n",
              "    </tr>\n",
              "    <tr>\n",
              "      <th>3484302</th>\n",
              "      <td>1970-01-19 15:02:52.680</td>\n",
              "      <td>28850.49</td>\n",
              "      <td>28900.52</td>\n",
              "      <td>28850.49</td>\n",
              "      <td>28882.82</td>\n",
              "      <td>2.466590</td>\n",
              "      <td>71232.784464</td>\n",
              "      <td>28879.056266</td>\n",
              "      <td>1970-01-19</td>\n",
              "      <td>15:02:52.680000</td>\n",
              "    </tr>\n",
              "    <tr>\n",
              "      <th>3484303</th>\n",
              "      <td>1970-01-19 15:02:52.740</td>\n",
              "      <td>28910.54</td>\n",
              "      <td>28911.52</td>\n",
              "      <td>28867.60</td>\n",
              "      <td>28881.30</td>\n",
              "      <td>7.332773</td>\n",
              "      <td>211870.912660</td>\n",
              "      <td>28893.695831</td>\n",
              "      <td>1970-01-19</td>\n",
              "      <td>15:02:52.740000</td>\n",
              "    </tr>\n",
              "    <tr>\n",
              "      <th>3484304</th>\n",
              "      <td>1970-01-19 15:02:52.800</td>\n",
              "      <td>28893.21</td>\n",
              "      <td>28928.49</td>\n",
              "      <td>28893.21</td>\n",
              "      <td>28928.49</td>\n",
              "      <td>5.757679</td>\n",
              "      <td>166449.709320</td>\n",
              "      <td>28909.166061</td>\n",
              "      <td>1970-01-19</td>\n",
              "      <td>15:02:52.800000</td>\n",
              "    </tr>\n",
              "  </tbody>\n",
              "</table>\n",
              "<p>3484305 rows × 10 columns</p>\n",
              "</div>"
            ],
            "text/plain": [
              "        start_time_of_the_window  open_price  ...  start_date       start_time\n",
              "0        1970-01-16 08:08:37.920        4.39  ...  1970-01-16  08:08:37.920000\n",
              "1        1970-01-16 08:09:06.600        4.39  ...  1970-01-16  08:09:06.600000\n",
              "2        1970-01-16 08:09:10.740        4.50  ...  1970-01-16  08:09:10.740000\n",
              "3        1970-01-16 08:09:10.800        4.58  ...  1970-01-16  08:09:10.800000\n",
              "4        1970-01-16 08:09:51.360        4.58  ...  1970-01-16  08:09:51.360000\n",
              "...                          ...         ...  ...         ...              ...\n",
              "3484300  1970-01-19 15:02:52.560    28801.47  ...  1970-01-19  15:02:52.560000\n",
              "3484301  1970-01-19 15:02:52.620    28829.42  ...  1970-01-19  15:02:52.620000\n",
              "3484302  1970-01-19 15:02:52.680    28850.49  ...  1970-01-19  15:02:52.680000\n",
              "3484303  1970-01-19 15:02:52.740    28910.54  ...  1970-01-19  15:02:52.740000\n",
              "3484304  1970-01-19 15:02:52.800    28893.21  ...  1970-01-19  15:02:52.800000\n",
              "\n",
              "[3484305 rows x 10 columns]"
            ]
          },
          "metadata": {
            "tags": []
          },
          "execution_count": 85
        }
      ]
    },
    {
      "cell_type": "code",
      "metadata": {
        "colab": {
          "base_uri": "https://localhost:8080/",
          "height": 226
        },
        "id": "6wf8pIbW_Bma",
        "outputId": "5c6fb775-dd73-4bf3-e836-a718b8bdf2e7"
      },
      "source": [
        "bitcoin_csv.head()"
      ],
      "execution_count": 87,
      "outputs": [
        {
          "output_type": "execute_result",
          "data": {
            "text/html": [
              "<div>\n",
              "<style scoped>\n",
              "    .dataframe tbody tr th:only-of-type {\n",
              "        vertical-align: middle;\n",
              "    }\n",
              "\n",
              "    .dataframe tbody tr th {\n",
              "        vertical-align: top;\n",
              "    }\n",
              "\n",
              "    .dataframe thead th {\n",
              "        text-align: right;\n",
              "    }\n",
              "</style>\n",
              "<table border=\"1\" class=\"dataframe\">\n",
              "  <thead>\n",
              "    <tr style=\"text-align: right;\">\n",
              "      <th></th>\n",
              "      <th>start_time_of_the_window</th>\n",
              "      <th>open_price</th>\n",
              "      <th>high_price</th>\n",
              "      <th>low_price</th>\n",
              "      <th>close_price</th>\n",
              "      <th>volume_of_bitcoins_transacted</th>\n",
              "      <th>volume_of_corresponding_currency_transacted</th>\n",
              "      <th>volume_weighted_average_price</th>\n",
              "      <th>start_date</th>\n",
              "      <th>start_time</th>\n",
              "    </tr>\n",
              "  </thead>\n",
              "  <tbody>\n",
              "    <tr>\n",
              "      <th>0</th>\n",
              "      <td>1970-01-16 08:08:37.920</td>\n",
              "      <td>4.39</td>\n",
              "      <td>4.39</td>\n",
              "      <td>4.39</td>\n",
              "      <td>4.39</td>\n",
              "      <td>0.455581</td>\n",
              "      <td>2.000000</td>\n",
              "      <td>4.390000</td>\n",
              "      <td>1970-01-16</td>\n",
              "      <td>08:08:37.920000</td>\n",
              "    </tr>\n",
              "    <tr>\n",
              "      <th>1</th>\n",
              "      <td>1970-01-16 08:09:06.600</td>\n",
              "      <td>4.39</td>\n",
              "      <td>4.39</td>\n",
              "      <td>4.39</td>\n",
              "      <td>4.39</td>\n",
              "      <td>48.000000</td>\n",
              "      <td>210.720000</td>\n",
              "      <td>4.390000</td>\n",
              "      <td>1970-01-16</td>\n",
              "      <td>08:09:06.600000</td>\n",
              "    </tr>\n",
              "    <tr>\n",
              "      <th>2</th>\n",
              "      <td>1970-01-16 08:09:10.740</td>\n",
              "      <td>4.50</td>\n",
              "      <td>4.57</td>\n",
              "      <td>4.50</td>\n",
              "      <td>4.57</td>\n",
              "      <td>37.862297</td>\n",
              "      <td>171.380338</td>\n",
              "      <td>4.526411</td>\n",
              "      <td>1970-01-16</td>\n",
              "      <td>08:09:10.740000</td>\n",
              "    </tr>\n",
              "    <tr>\n",
              "      <th>3</th>\n",
              "      <td>1970-01-16 08:09:10.800</td>\n",
              "      <td>4.58</td>\n",
              "      <td>4.58</td>\n",
              "      <td>4.58</td>\n",
              "      <td>4.58</td>\n",
              "      <td>9.000000</td>\n",
              "      <td>41.220000</td>\n",
              "      <td>4.580000</td>\n",
              "      <td>1970-01-16</td>\n",
              "      <td>08:09:10.800000</td>\n",
              "    </tr>\n",
              "    <tr>\n",
              "      <th>4</th>\n",
              "      <td>1970-01-16 08:09:51.360</td>\n",
              "      <td>4.58</td>\n",
              "      <td>4.58</td>\n",
              "      <td>4.58</td>\n",
              "      <td>4.58</td>\n",
              "      <td>1.502000</td>\n",
              "      <td>6.879160</td>\n",
              "      <td>4.580000</td>\n",
              "      <td>1970-01-16</td>\n",
              "      <td>08:09:51.360000</td>\n",
              "    </tr>\n",
              "  </tbody>\n",
              "</table>\n",
              "</div>"
            ],
            "text/plain": [
              "  start_time_of_the_window  open_price  ...  start_date       start_time\n",
              "0  1970-01-16 08:08:37.920        4.39  ...  1970-01-16  08:08:37.920000\n",
              "1  1970-01-16 08:09:06.600        4.39  ...  1970-01-16  08:09:06.600000\n",
              "2  1970-01-16 08:09:10.740        4.50  ...  1970-01-16  08:09:10.740000\n",
              "3  1970-01-16 08:09:10.800        4.58  ...  1970-01-16  08:09:10.800000\n",
              "4  1970-01-16 08:09:51.360        4.58  ...  1970-01-16  08:09:51.360000\n",
              "\n",
              "[5 rows x 10 columns]"
            ]
          },
          "metadata": {
            "tags": []
          },
          "execution_count": 87
        }
      ]
    },
    {
      "cell_type": "code",
      "metadata": {
        "colab": {
          "base_uri": "https://localhost:8080/",
          "height": 226
        },
        "id": "HwOdyYUU_GZ4",
        "outputId": "58c5d4f4-3e33-489a-aebc-ffb8cab3e86c"
      },
      "source": [
        "bitcoin_csv.tail()"
      ],
      "execution_count": 88,
      "outputs": [
        {
          "output_type": "execute_result",
          "data": {
            "text/html": [
              "<div>\n",
              "<style scoped>\n",
              "    .dataframe tbody tr th:only-of-type {\n",
              "        vertical-align: middle;\n",
              "    }\n",
              "\n",
              "    .dataframe tbody tr th {\n",
              "        vertical-align: top;\n",
              "    }\n",
              "\n",
              "    .dataframe thead th {\n",
              "        text-align: right;\n",
              "    }\n",
              "</style>\n",
              "<table border=\"1\" class=\"dataframe\">\n",
              "  <thead>\n",
              "    <tr style=\"text-align: right;\">\n",
              "      <th></th>\n",
              "      <th>start_time_of_the_window</th>\n",
              "      <th>open_price</th>\n",
              "      <th>high_price</th>\n",
              "      <th>low_price</th>\n",
              "      <th>close_price</th>\n",
              "      <th>volume_of_bitcoins_transacted</th>\n",
              "      <th>volume_of_corresponding_currency_transacted</th>\n",
              "      <th>volume_weighted_average_price</th>\n",
              "      <th>start_date</th>\n",
              "      <th>start_time</th>\n",
              "    </tr>\n",
              "  </thead>\n",
              "  <tbody>\n",
              "    <tr>\n",
              "      <th>3484300</th>\n",
              "      <td>1970-01-19 15:02:52.560</td>\n",
              "      <td>28801.47</td>\n",
              "      <td>28829.42</td>\n",
              "      <td>28785.64</td>\n",
              "      <td>28829.42</td>\n",
              "      <td>0.965221</td>\n",
              "      <td>27804.572129</td>\n",
              "      <td>28806.429798</td>\n",
              "      <td>1970-01-19</td>\n",
              "      <td>15:02:52.560000</td>\n",
              "    </tr>\n",
              "    <tr>\n",
              "      <th>3484301</th>\n",
              "      <td>1970-01-19 15:02:52.620</td>\n",
              "      <td>28829.42</td>\n",
              "      <td>28863.90</td>\n",
              "      <td>28829.42</td>\n",
              "      <td>28857.06</td>\n",
              "      <td>2.368831</td>\n",
              "      <td>68332.350629</td>\n",
              "      <td>28846.441863</td>\n",
              "      <td>1970-01-19</td>\n",
              "      <td>15:02:52.620000</td>\n",
              "    </tr>\n",
              "    <tr>\n",
              "      <th>3484302</th>\n",
              "      <td>1970-01-19 15:02:52.680</td>\n",
              "      <td>28850.49</td>\n",
              "      <td>28900.52</td>\n",
              "      <td>28850.49</td>\n",
              "      <td>28882.82</td>\n",
              "      <td>2.466590</td>\n",
              "      <td>71232.784464</td>\n",
              "      <td>28879.056266</td>\n",
              "      <td>1970-01-19</td>\n",
              "      <td>15:02:52.680000</td>\n",
              "    </tr>\n",
              "    <tr>\n",
              "      <th>3484303</th>\n",
              "      <td>1970-01-19 15:02:52.740</td>\n",
              "      <td>28910.54</td>\n",
              "      <td>28911.52</td>\n",
              "      <td>28867.60</td>\n",
              "      <td>28881.30</td>\n",
              "      <td>7.332773</td>\n",
              "      <td>211870.912660</td>\n",
              "      <td>28893.695831</td>\n",
              "      <td>1970-01-19</td>\n",
              "      <td>15:02:52.740000</td>\n",
              "    </tr>\n",
              "    <tr>\n",
              "      <th>3484304</th>\n",
              "      <td>1970-01-19 15:02:52.800</td>\n",
              "      <td>28893.21</td>\n",
              "      <td>28928.49</td>\n",
              "      <td>28893.21</td>\n",
              "      <td>28928.49</td>\n",
              "      <td>5.757679</td>\n",
              "      <td>166449.709320</td>\n",
              "      <td>28909.166061</td>\n",
              "      <td>1970-01-19</td>\n",
              "      <td>15:02:52.800000</td>\n",
              "    </tr>\n",
              "  </tbody>\n",
              "</table>\n",
              "</div>"
            ],
            "text/plain": [
              "        start_time_of_the_window  open_price  ...  start_date       start_time\n",
              "3484300  1970-01-19 15:02:52.560    28801.47  ...  1970-01-19  15:02:52.560000\n",
              "3484301  1970-01-19 15:02:52.620    28829.42  ...  1970-01-19  15:02:52.620000\n",
              "3484302  1970-01-19 15:02:52.680    28850.49  ...  1970-01-19  15:02:52.680000\n",
              "3484303  1970-01-19 15:02:52.740    28910.54  ...  1970-01-19  15:02:52.740000\n",
              "3484304  1970-01-19 15:02:52.800    28893.21  ...  1970-01-19  15:02:52.800000\n",
              "\n",
              "[5 rows x 10 columns]"
            ]
          },
          "metadata": {
            "tags": []
          },
          "execution_count": 88
        }
      ]
    },
    {
      "cell_type": "markdown",
      "metadata": {
        "id": "O1oUXxr0wjf0"
      },
      "source": [
        "## Ya que las ventanas comerciales están reportadas por minuto se decidió buscar el promedio por día, para lo que se ha realizado una función"
      ]
    },
    {
      "cell_type": "code",
      "metadata": {
        "colab": {
          "base_uri": "https://localhost:8080/"
        },
        "id": "2cI6fAle3QfS",
        "outputId": "7dbf29ef-5f89-482a-d842-4c8c6f4e9400"
      },
      "source": [
        "bitcoin_csv[\"volume_weighted_average_price\"][0]"
      ],
      "execution_count": 86,
      "outputs": [
        {
          "output_type": "execute_result",
          "data": {
            "text/plain": [
              "4.39"
            ]
          },
          "metadata": {
            "tags": []
          },
          "execution_count": 86
        }
      ]
    },
    {
      "cell_type": "code",
      "metadata": {
        "id": "AKe9b8pnwiiG"
      },
      "source": [
        "def average_per_day(date, price):\n",
        "\n",
        "  for row in range(len(date)+1):\n",
        "\n",
        "    total_price = price[0]\n",
        "\n",
        "    if date[i] == date[i+1]:\n",
        "\n",
        "      total_price +=  \n",
        "\n",
        "      bitcoin_csv[\"total_price_per_day\"] = "
      ],
      "execution_count": null,
      "outputs": []
    },
    {
      "cell_type": "code",
      "metadata": {
        "colab": {
          "base_uri": "https://localhost:8080/"
        },
        "id": "lK7dVnIQsHqC",
        "outputId": "d28c8e0c-3caf-4646-8e4d-a158cae58d78"
      },
      "source": [
        "bitcoin_csv[\"volume_weighted_average_price\"] >= 28000"
      ],
      "execution_count": 70,
      "outputs": [
        {
          "output_type": "execute_result",
          "data": {
            "text/plain": [
              "0          False\n",
              "1          False\n",
              "2          False\n",
              "3          False\n",
              "4          False\n",
              "           ...  \n",
              "3484300     True\n",
              "3484301     True\n",
              "3484302     True\n",
              "3484303     True\n",
              "3484304     True\n",
              "Name: volume_weighted_average_price, Length: 3484305, dtype: bool"
            ]
          },
          "metadata": {
            "tags": []
          },
          "execution_count": 70
        }
      ]
    },
    {
      "cell_type": "code",
      "metadata": {
        "colab": {
          "base_uri": "https://localhost:8080/",
          "height": 434
        },
        "id": "lZOTsARTtV9J",
        "outputId": "3cee1e31-f533-4fc1-bc44-26329337235d"
      },
      "source": [
        "price_check = bitcoin_csv[bitcoin_csv[\"volume_weighted_average_price\"]] > float(60000)"
      ],
      "execution_count": 56,
      "outputs": [
        {
          "output_type": "error",
          "ename": "KeyError",
          "evalue": "ignored",
          "traceback": [
            "\u001b[0;31m---------------------------------------------------------------------------\u001b[0m",
            "\u001b[0;31mKeyError\u001b[0m                                  Traceback (most recent call last)",
            "\u001b[0;32m<ipython-input-56-53a440cdbebf>\u001b[0m in \u001b[0;36m<module>\u001b[0;34m()\u001b[0m\n\u001b[0;32m----> 1\u001b[0;31m \u001b[0mprice_check\u001b[0m \u001b[0;34m=\u001b[0m \u001b[0mbitcoin_csv\u001b[0m\u001b[0;34m[\u001b[0m\u001b[0mbitcoin_csv\u001b[0m\u001b[0;34m[\u001b[0m\u001b[0;34m\"volume_weighted_average_price\"\u001b[0m\u001b[0;34m]\u001b[0m\u001b[0;34m]\u001b[0m \u001b[0;34m>\u001b[0m \u001b[0mfloat\u001b[0m\u001b[0;34m(\u001b[0m\u001b[0;36m60000\u001b[0m\u001b[0;34m)\u001b[0m\u001b[0;34m\u001b[0m\u001b[0;34m\u001b[0m\u001b[0m\n\u001b[0m",
            "\u001b[0;32m/usr/local/lib/python3.7/dist-packages/pandas/core/frame.py\u001b[0m in \u001b[0;36m__getitem__\u001b[0;34m(self, key)\u001b[0m\n\u001b[1;32m   2910\u001b[0m             \u001b[0;32mif\u001b[0m \u001b[0mis_iterator\u001b[0m\u001b[0;34m(\u001b[0m\u001b[0mkey\u001b[0m\u001b[0;34m)\u001b[0m\u001b[0;34m:\u001b[0m\u001b[0;34m\u001b[0m\u001b[0;34m\u001b[0m\u001b[0m\n\u001b[1;32m   2911\u001b[0m                 \u001b[0mkey\u001b[0m \u001b[0;34m=\u001b[0m \u001b[0mlist\u001b[0m\u001b[0;34m(\u001b[0m\u001b[0mkey\u001b[0m\u001b[0;34m)\u001b[0m\u001b[0;34m\u001b[0m\u001b[0;34m\u001b[0m\u001b[0m\n\u001b[0;32m-> 2912\u001b[0;31m             \u001b[0mindexer\u001b[0m \u001b[0;34m=\u001b[0m \u001b[0mself\u001b[0m\u001b[0;34m.\u001b[0m\u001b[0mloc\u001b[0m\u001b[0;34m.\u001b[0m\u001b[0m_get_listlike_indexer\u001b[0m\u001b[0;34m(\u001b[0m\u001b[0mkey\u001b[0m\u001b[0;34m,\u001b[0m \u001b[0maxis\u001b[0m\u001b[0;34m=\u001b[0m\u001b[0;36m1\u001b[0m\u001b[0;34m,\u001b[0m \u001b[0mraise_missing\u001b[0m\u001b[0;34m=\u001b[0m\u001b[0;32mTrue\u001b[0m\u001b[0;34m)\u001b[0m\u001b[0;34m[\u001b[0m\u001b[0;36m1\u001b[0m\u001b[0;34m]\u001b[0m\u001b[0;34m\u001b[0m\u001b[0;34m\u001b[0m\u001b[0m\n\u001b[0m\u001b[1;32m   2913\u001b[0m \u001b[0;34m\u001b[0m\u001b[0m\n\u001b[1;32m   2914\u001b[0m         \u001b[0;31m# take() does not accept boolean indexers\u001b[0m\u001b[0;34m\u001b[0m\u001b[0;34m\u001b[0m\u001b[0;34m\u001b[0m\u001b[0m\n",
            "\u001b[0;32m/usr/local/lib/python3.7/dist-packages/pandas/core/indexing.py\u001b[0m in \u001b[0;36m_get_listlike_indexer\u001b[0;34m(self, key, axis, raise_missing)\u001b[0m\n\u001b[1;32m   1252\u001b[0m             \u001b[0mkeyarr\u001b[0m\u001b[0;34m,\u001b[0m \u001b[0mindexer\u001b[0m\u001b[0;34m,\u001b[0m \u001b[0mnew_indexer\u001b[0m \u001b[0;34m=\u001b[0m \u001b[0max\u001b[0m\u001b[0;34m.\u001b[0m\u001b[0m_reindex_non_unique\u001b[0m\u001b[0;34m(\u001b[0m\u001b[0mkeyarr\u001b[0m\u001b[0;34m)\u001b[0m\u001b[0;34m\u001b[0m\u001b[0;34m\u001b[0m\u001b[0m\n\u001b[1;32m   1253\u001b[0m \u001b[0;34m\u001b[0m\u001b[0m\n\u001b[0;32m-> 1254\u001b[0;31m         \u001b[0mself\u001b[0m\u001b[0;34m.\u001b[0m\u001b[0m_validate_read_indexer\u001b[0m\u001b[0;34m(\u001b[0m\u001b[0mkeyarr\u001b[0m\u001b[0;34m,\u001b[0m \u001b[0mindexer\u001b[0m\u001b[0;34m,\u001b[0m \u001b[0maxis\u001b[0m\u001b[0;34m,\u001b[0m \u001b[0mraise_missing\u001b[0m\u001b[0;34m=\u001b[0m\u001b[0mraise_missing\u001b[0m\u001b[0;34m)\u001b[0m\u001b[0;34m\u001b[0m\u001b[0;34m\u001b[0m\u001b[0m\n\u001b[0m\u001b[1;32m   1255\u001b[0m         \u001b[0;32mreturn\u001b[0m \u001b[0mkeyarr\u001b[0m\u001b[0;34m,\u001b[0m \u001b[0mindexer\u001b[0m\u001b[0;34m\u001b[0m\u001b[0;34m\u001b[0m\u001b[0m\n\u001b[1;32m   1256\u001b[0m \u001b[0;34m\u001b[0m\u001b[0m\n",
            "\u001b[0;32m/usr/local/lib/python3.7/dist-packages/pandas/core/indexing.py\u001b[0m in \u001b[0;36m_validate_read_indexer\u001b[0;34m(self, key, indexer, axis, raise_missing)\u001b[0m\n\u001b[1;32m   1296\u001b[0m             \u001b[0;32mif\u001b[0m \u001b[0mmissing\u001b[0m \u001b[0;34m==\u001b[0m \u001b[0mlen\u001b[0m\u001b[0;34m(\u001b[0m\u001b[0mindexer\u001b[0m\u001b[0;34m)\u001b[0m\u001b[0;34m:\u001b[0m\u001b[0;34m\u001b[0m\u001b[0;34m\u001b[0m\u001b[0m\n\u001b[1;32m   1297\u001b[0m                 \u001b[0maxis_name\u001b[0m \u001b[0;34m=\u001b[0m \u001b[0mself\u001b[0m\u001b[0;34m.\u001b[0m\u001b[0mobj\u001b[0m\u001b[0;34m.\u001b[0m\u001b[0m_get_axis_name\u001b[0m\u001b[0;34m(\u001b[0m\u001b[0maxis\u001b[0m\u001b[0;34m)\u001b[0m\u001b[0;34m\u001b[0m\u001b[0;34m\u001b[0m\u001b[0m\n\u001b[0;32m-> 1298\u001b[0;31m                 \u001b[0;32mraise\u001b[0m \u001b[0mKeyError\u001b[0m\u001b[0;34m(\u001b[0m\u001b[0;34mf\"None of [{key}] are in the [{axis_name}]\"\u001b[0m\u001b[0;34m)\u001b[0m\u001b[0;34m\u001b[0m\u001b[0;34m\u001b[0m\u001b[0m\n\u001b[0m\u001b[1;32m   1299\u001b[0m \u001b[0;34m\u001b[0m\u001b[0m\n\u001b[1;32m   1300\u001b[0m             \u001b[0;31m# We (temporarily) allow for some missing keys with .loc, except in\u001b[0m\u001b[0;34m\u001b[0m\u001b[0;34m\u001b[0m\u001b[0;34m\u001b[0m\u001b[0m\n",
            "\u001b[0;31mKeyError\u001b[0m: \"None of [Float64Index([              4.39,               4.39,       4.5264114983,\\n                            4.58,               4.58,               4.84,\\n                             5.0,                5.0,               5.32,\\n                            5.14,\\n              ...\\n                     28838.37645,       28837.207539,       28814.411945,\\n                     28812.73295,       28810.597267,       28806.429798,\\n                    28846.441863, 28879.056266000003,       28893.695831,\\n                    28909.166061],\\n             dtype='float64', length=3484305)] are in the [columns]\""
          ]
        }
      ]
    },
    {
      "cell_type": "code",
      "metadata": {
        "id": "Shbmst0Vu4if"
      },
      "source": [
        ""
      ],
      "execution_count": null,
      "outputs": []
    }
  ]
}